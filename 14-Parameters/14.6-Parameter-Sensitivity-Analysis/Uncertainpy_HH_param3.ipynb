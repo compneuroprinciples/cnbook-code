{
 "cells": [
  {
   "cell_type": "markdown",
   "id": "458349f5",
   "metadata": {},
   "source": [
    "# Uncertainpy example: Hodgkin-Huxley action potential with analysis of three parameters\n",
    "Uncertainpy can be found at: https://github.com/simetenn/uncertainpy.\n",
    "This example is derived from the examples provided with Uncertainpy and detailed in Tennoe et al (Frontiers in Neuroinformatics 2018 12:49 DOI: 10.3389/fninf.2018.00049) It is based on the model of Torres Valderamma et al (Journal of Mathematical Neuroscience 2015 5:3 DOI: 10.1186/2190-8567-5-3)."
   ]
  },
  {
   "cell_type": "markdown",
   "id": "ebe3c068",
   "metadata": {},
   "source": [
    "This cell runs the analysis with the standard default parameters for Uncertainpy, which results in an analysis using polynomial chaos expansions with point collocation."
   ]
  },
  {
   "cell_type": "code",
   "execution_count": 2,
   "id": "bbe63e19",
   "metadata": {},
   "outputs": [
    {
     "name": "stderr",
     "output_type": "stream",
     "text": [
      "chaospy.orth_ttr name is to be deprecated; Use chaospy.expansion.stieltjes instead\n"
     ]
    },
    {
     "name": "stdout",
     "output_type": "stream",
     "text": [
      "On Windows machines everything in your script must be inside of an if __name__ == '__main__': block in order for multiprocess to work.\n"
     ]
    },
    {
     "name": "stderr",
     "output_type": "stream",
     "text": [
      "Running model: 100%|██████████| 72/72 [00:03<00:00, 23.06it/s]\n",
      "Calculating PC for each feature: 100%|██████████| 1/1 [00:00<00:00, 38.56it/s]\n",
      "Calculating statistics from PCE: 100%|██████████| 1/1 [00:06<00:00,  6.42s/it]\n"
     ]
    }
   ],
   "source": [
    "import uncertainpy as un\n",
    "import chaospy as cp\n",
    "import numpy as np\n",
    "import matplotlib.pyplot as plt\n",
    "\n",
    "from valderrama import valderrama\n",
    "\n",
    "# Define a parameter list and data file name\n",
    "# Maximum conductances\n",
    "parameters = {\"gbar_Na\": 120,\n",
    "              \"gbar_K\": 36,\n",
    "              \"gbar_L\": 0.3}\n",
    "fdat = \"HH_param3_maxcond\"\n",
    "# Reversal potentials\n",
    "#parameters = {\"E_Na\": 112,\n",
    "#              \"E_K\": -12,\n",
    "#              \"E_l\": 10.613}\n",
    "#fdat = \"HH_param3_revpot\"\n",
    "\n",
    "if __name__ == '__main__':\n",
    "        \n",
    "    # Few parameters\n",
    "    model = un.Model(run=valderrama,\n",
    "                     labels=[\"Time (ms)\", \"Membrane potential (mV)\"])\n",
    "    \n",
    "    # Create the parameters\n",
    "    parameters = un.Parameters(parameters)\n",
    "    \n",
    "    # Set all parameters to have a uniform distribution\n",
    "    # within a 20% interval around their fixed value\n",
    "    parameters.set_all_distributions(un.uniform(0.2))\n",
    "    \n",
    "    # Setup the uncertainty quantification\n",
    "    UQ = un.UncertaintyQuantification(model,\n",
    "                                      parameters=parameters)\n",
    "    \n",
    "    # We set the seed to easier be able to reproduce the result\n",
    "    data = UQ.quantify(seed=10, save=False)\n",
    "    data.save(fdat+\".h5\")\n"
   ]
  },
  {
   "cell_type": "markdown",
   "id": "841f721f",
   "metadata": {},
   "source": [
    "This cell analyses and plots the results, using data stored above (so not necessary to run Uncertainpy each time)"
   ]
  },
  {
   "cell_type": "code",
   "execution_count": 3,
   "id": "0db9b66d",
   "metadata": {},
   "outputs": [
    {
     "data": {
      "image/png": "[encoded data removed]",
      "text/plain": [
       "<Figure size 409.449x236.22 with 4 Axes>"
      ]
     },
     "metadata": {},
     "output_type": "display_data"
    }
   ],
   "source": [
    "import uncertainpy as un\n",
    "import numpy as np\n",
    "import matplotlib.pyplot as plt\n",
    "import matplotlib.gridspec as gridspec\n",
    "import h5py\n",
    "from matplotlib import rcParams\n",
    "\n",
    "# Plot parameters\n",
    "plt.rcdefaults()\n",
    "plt.rcParams['svg.fonttype'] = 'none'\n",
    "rcParams.update({'font.size': 9})\n",
    "rcParams['font.family'] = 'sans-serif'\n",
    "rcParams['font.sans-serif'] = ['Iwona'] + rcParams['font.sans-serif']\n",
    "rcParams['lines.linewidth'] = 0.8\n",
    "\n",
    "# Convert cm in figure size to inches\n",
    "def cm2inch(value):\n",
    "    return value/2.54\n",
    "\n",
    "# parameter names for axis labels\n",
    "params = [\"P1\", \"P2\", \"P3\"]\n",
    "#params = [\"$\\overline{g}_\\mathrm{Na}$\",\"$\\overline{g}_\\mathrm{K}$\", \"$\\overline{g}_\\mathrm{L}$\"]\n",
    "#params = [\"$E_\\mathrm{Na}$\",\"$E_\\mathrm{K}$\", \"$E_\\mathrm{L}$\"]\n",
    "\n",
    "# load previously generated data\n",
    "data = un.Data(fdat+\".h5\")\n",
    "\n",
    "time = data[\"valderrama\"].time\n",
    "mu = data[\"valderrama\"].mean\n",
    "var = data[\"valderrama\"].variance\n",
    "sigma = np.sqrt(data[\"valderrama\"].variance)\n",
    "p90 = mu + 2*sigma\n",
    "p90m = mu - 2*sigma\n",
    "\n",
    "# Sobol indices\n",
    "sfirst = data[\"valderrama\"].sobol_first\n",
    "\n",
    "fig = plt.figure()\n",
    "fig.set_size_inches(cm2inch(10.4),cm2inch(6))\n",
    "gs = gridspec.GridSpec(3, 2)\n",
    "\n",
    "ax = fig.add_subplot(gs[:, 0])\n",
    "ax.plot(time, mu, linestyle='-',color='#303333')\n",
    "ax.set_xlabel('$t$ (ms)')\n",
    "ax.set_ylabel(data[\"valderrama\"].labels[1])\n",
    "ax.set_title('(a)', loc='left')\n",
    "ax.fill_between(time, p90m, p90, alpha=0.2)\n",
    "ax.spines['right'].set_color('none')\n",
    "ax.spines['top'].set_color('none')\n",
    "ax.spines['bottom'].set_position(('axes', -0.05))\n",
    "ax.yaxis.set_ticks_position('left')\n",
    "ax.xaxis.set_ticks_position('bottom')\n",
    "ax.set_xlim([5,15])\n",
    "ax.set_ylim([0,55])\n",
    "\n",
    "for i in range(3):\n",
    "    ax = fig.add_subplot(gs[i, 1])\n",
    "    ax.plot(time, sfirst[i], linestyle='-',color='#303333')\n",
    "    ax.set_ylim([-0.02, 1.02])\n",
    "    ax.annotate(params[i],\n",
    "            xy=(5, 0.8), xycoords='data',\n",
    "            xytext=(5, 0.8), textcoords='data',\n",
    "            )\n",
    "\n",
    "    ax.spines['right'].set_color('none')\n",
    "    ax.spines['top'].set_color('none')\n",
    "    if i < 2: \n",
    "        ax.spines['bottom'].set_color('none')\n",
    "        ax.xaxis.set_ticks_position('none')\n",
    "        ax.tick_params(axis='x', labelcolor='none')\n",
    "    if i == 2: \n",
    "        ax.spines['bottom'].set_position(('axes', -0.15))\n",
    "        ax.xaxis.set_ticks_position('bottom')\n",
    "        ax.set_xlabel('$t$ (ms)')\n",
    "    if i == 0: \n",
    "        ax.set_title('(b)', loc='left')\n",
    "    \n",
    "#plt.savefig(\"figures/\"+fdat+\".svg\", format=\"svg\")\n",
    "#plt.savefig(\"figures/\"+fdat+\".png\", format=\"png\")\n",
    "#plt.savefig(\"figures/\"+fdat+\".eps\", format=\"eps\")\n",
    "plt.show()\n"
   ]
  },
  {
   "cell_type": "code",
   "execution_count": null,
   "id": "8d9a6e69",
   "metadata": {},
   "outputs": [],
   "source": []
  }
 ],
 "metadata": {
  "kernelspec": {
   "display_name": "Python 3",
   "language": "python",
   "name": "python3"
  },
  "language_info": {
   "codemirror_mode": {
    "name": "ipython",
    "version": 3
   },
   "file_extension": ".py",
   "mimetype": "text/x-python",
   "name": "python",
   "nbconvert_exporter": "python",
   "pygments_lexer": "ipython3",
   "version": "3.8.10"
  }
 },
 "nbformat": 4,
 "nbformat_minor": 5
}
